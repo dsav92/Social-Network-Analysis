{
 "cells": [
  {
   "cell_type": "code",
   "execution_count": 39,
   "metadata": {
    "collapsed": true
   },
   "outputs": [],
   "source": [
    "import scipy.io as sio\n",
    "import pandas as pd\n",
    "import networkx as nx\n",
    "import matplotlib.pyplot as plt\n",
    "import operator"
   ]
  },
  {
   "cell_type": "code",
   "execution_count": 40,
   "metadata": {
    "collapsed": true
   },
   "outputs": [],
   "source": [
    "def read_graph(filename):\n",
    "    # read graph from edgelist file\n",
    "    g = nx.Graph()\n",
    "    \n",
    "    f = open(filename)\n",
    "    for l in f:\n",
    "        l = l.rstrip().replace(\" \", \";\").replace(\",\", \";\").replace(\"\\t\", \";\").split(\";\")\n",
    "        g.add_edge(l[0], l[1])\n",
    "    return g\n",
    "G = read_graph('Dataset/socfb-CMU.csv')"
   ]
  },
  {
   "cell_type": "code",
   "execution_count": 41,
   "metadata": {
    "collapsed": true
   },
   "outputs": [],
   "source": [
    "def base_stats(graph):\n",
    "    lista={}\n",
    "    # compute some basilar stats\n",
    "    nodes = graph.number_of_nodes()\n",
    "    edges = graph.number_of_edges()\n",
    "    density = nx.density(graph)\n",
    "    avg= average_degree(graph)\n",
    "    c_coeff = nx.average_clustering(graph)\n",
    "    component=nx.number_connected_components(graph)\n",
    "    \n",
    "    lista['nodes']=nodes\n",
    "    lista['edges']=edges\n",
    "    lista['density']=density\n",
    "    lista['avg']=avg\n",
    "    lista['cluster']=c_coeff\n",
    "    lista['component']=component\n",
    "    \n",
    "    return lista\n",
    "    \n",
    "                       "
   ]
  },
  {
   "cell_type": "code",
   "execution_count": 42,
   "metadata": {
    "collapsed": true
   },
   "outputs": [],
   "source": [
    "#AVERAGE DEGREE--> NUMERO MEDIO DI LINK CONNESSI AI NODI\n",
    "def average_degree(graph):\n",
    "    N, K = graph.order(), graph.size()\n",
    "    return float(K) / N"
   ]
  },
  {
   "cell_type": "code",
   "execution_count": 43,
   "metadata": {
    "collapsed": false
   },
   "outputs": [],
   "source": [
    "def compute_overlap(g):\n",
    "    edge_list = list()\n",
    "    edge_list = g.edges()\n",
    "    dict = {}\n",
    "    for i in range(0,len(edge_list)-1):\n",
    "        n_1 = float(len(g.neighbors(edge_list[i][0]))) \n",
    "        n_2 = float(len(g.neighbors(edge_list[i][1])))\n",
    "        n_common = float(len(sorted(nx.common_neighbors(g, edge_list[i][0], edge_list[i][1]))))\n",
    "        overlap = float(n_common / ((n_1 + n_2)-n_common))\n",
    "        dict[edge_list[i]] = overlap\n",
    "    sort_dict = sorted(dict.items(),key=operator.itemgetter(1), reverse = True)\n",
    "    return sort_dict"
   ]
  },
  {
   "cell_type": "code",
   "execution_count": 44,
   "metadata": {
    "collapsed": false
   },
   "outputs": [],
   "source": [
    "dict = compute_overlap(G)"
   ]
  },
  {
   "cell_type": "code",
   "execution_count": null,
   "metadata": {
    "collapsed": true
   },
   "outputs": [],
   "source": [
    "for i in range(0,10000):\n",
    "    tmp = dict[i][0]\n",
    "    G.remove_edge(tmp[0], tmp[1])\n",
    "    if(i==2449):\n",
    "        print('PERCENTILE 25%')\n",
    "        print(base_stats(G))\n",
    "        print('\\n')\n",
    "    elif(i==4449):\n",
    "        print('PERCENTILE 50%')\n",
    "        print(base_stats(G))\n",
    "        print('\\n')\n",
    "    elif(i==7449):\n",
    "        print('PERCENTILE 75%')\n",
    "        print(base_stats(G)) \n",
    "        print('\\n')\n",
    "    elif(i==9999):\n",
    "        print('END')\n",
    "        print(base_stats(G)) "
   ]
  },
  {
   "cell_type": "code",
   "execution_count": null,
   "metadata": {
    "collapsed": true
   },
   "outputs": [],
   "source": []
  }
 ],
 "metadata": {
  "kernelspec": {
   "display_name": "Python 3",
   "language": "python",
   "name": "python3"
  },
  "language_info": {
   "codemirror_mode": {
    "name": "ipython",
    "version": 3
   },
   "file_extension": ".py",
   "mimetype": "text/x-python",
   "name": "python",
   "nbconvert_exporter": "python",
   "pygments_lexer": "ipython3",
   "version": "3.6.4"
  }
 },
 "nbformat": 4,
 "nbformat_minor": 2
}
