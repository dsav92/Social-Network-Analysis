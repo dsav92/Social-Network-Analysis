{
 "cells": [
  {
   "cell_type": "code",
   "execution_count": 1,
   "metadata": {
    "collapsed": false
   },
   "outputs": [],
   "source": [
    "import scipy.io as sio\n",
    "import pandas as pd\n",
    "import networkx as nx\n",
    "import matplotlib.pyplot as plt\n",
    "from random import choice\n",
    "import operator"
   ]
  },
  {
   "cell_type": "code",
   "execution_count": 2,
   "metadata": {
    "collapsed": true
   },
   "outputs": [],
   "source": [
    "def read_graph(filename):\n",
    "    # read graph from edgelist file\n",
    "    g = nx.Graph()\n",
    "    \n",
    "    f = open(filename)\n",
    "    for l in f:\n",
    "        l = l.rstrip().replace(\" \", \";\").replace(\",\", \";\").replace(\"\\t\", \";\").split(\";\")\n",
    "        g.add_edge(l[0], l[1])\n",
    "    return g\n",
    "G = read_graph('Dataset/socfb_Sample.csv')"
   ]
  },
  {
   "cell_type": "code",
   "execution_count": 3,
   "metadata": {
    "collapsed": true
   },
   "outputs": [],
   "source": [
    "#AVERAGE DEGREE--> NUMERO MEDIO DI LINK CONNESSI AI NODI\n",
    "def average_degree(graph):\n",
    "    N, K = graph.order(), graph.size()\n",
    "    return float(K) / N"
   ]
  },
  {
   "cell_type": "code",
   "execution_count": null,
   "metadata": {
    "collapsed": true
   },
   "outputs": [],
   "source": [
    "#N° NODI---N° ARCHI---DESITA'---GRADO MEDIO---AVG. CLUSTERING COEFFICIENT\n",
    "def base_stats(graph):\n",
    "    lista={}\n",
    "    # compute some basilar stats\n",
    "    nodes = graph.number_of_nodes()\n",
    "    edges = graph.number_of_edges()\n",
    "    density = nx.density(graph)\n",
    "    avg = average_degree(graph)\n",
    "    c_coeff = nx.average_clustering(graph)\n",
    "    component=nx.number_connected_components(graph)\n",
    "    lista['nodes']=nodes\n",
    "    lista['edges']=edges\n",
    "    lista['density']=density\n",
    "    lista['avg']=avg\n",
    "    lista['cluster']=c_coeff\n",
    "    lista['component']=component\n",
    "    return lista\n",
    "    \n",
    "print (base_stats(G))\n",
    "#nx.draw(g)"
   ]
  },
  {
   "cell_type": "code",
   "execution_count": null,
   "metadata": {
    "collapsed": true
   },
   "outputs": [],
   "source": [
    "k = {}\n",
    "a = {}\n",
    "b = {}\n",
    "for c in range(2,10):\n",
    "    click = list(nx.k_clique_communities(G, c))\n",
    "    k[c] = len(click)\n",
    "k"
   ]
  },
  {
   "cell_type": "code",
   "execution_count": 6,
   "metadata": {
    "collapsed": false
   },
   "outputs": [],
   "source": [
    "a = list(k.keys())\n",
    "b = list()\n",
    "for i in range(2,10):\n",
    "    b.append(k[i])"
   ]
  },
  {
   "cell_type": "code",
   "execution_count": 7,
   "metadata": {
    "collapsed": false
   },
   "outputs": [
    {
     "data": {
      "image/png": "[encoded data removed]",
      "text/plain": [
       "<matplotlib.figure.Figure at 0xc824e10>"
      ]
     },
     "metadata": {},
     "output_type": "display_data"
    }
   ],
   "source": [
    "plt.plot(a,b,'-',linewidth=2, color='red')\n",
    "plt.xlabel('k')\n",
    "plt.ylabel('communities')\n",
    "plt.show()"
   ]
  },
  {
   "cell_type": "code",
   "execution_count": null,
   "metadata": {
    "collapsed": true
   },
   "outputs": [],
   "source": [
    "cliques= nx.find_cliques(G)\n",
    "cliques2= [clq for clq in cliques if len(clq)>=2]\n",
    "nodes_2= [n for clq in cliques2 for n in clq]\n",
    "h2=G.subgraph(nodes_2)\n",
    "print (base_stats(h2))"
   ]
  },
  {
   "cell_type": "code",
   "execution_count": null,
   "metadata": {
    "collapsed": true
   },
   "outputs": [],
   "source": [
    "cliques= nx.find_cliques(G)\n",
    "cliques3= [clq for clq in cliques if len(clq)>=3]\n",
    "nodes_3= [n for clq in cliques3 for n in clq]\n",
    "h3=G.subgraph(nodes_3)\n",
    "print (base_stats(h3))"
   ]
  },
  {
   "cell_type": "code",
   "execution_count": null,
   "metadata": {
    "collapsed": true
   },
   "outputs": [],
   "source": [
    "cliques= nx.find_cliques(G)\n",
    "cliques4= [clq for clq in cliques if len(clq)>=4]\n",
    "nodes_4= [n for clq in cliques4 for n in clq]\n",
    "h4=G.subgraph(nodes_4)\n",
    "print (base_stats(h4))"
   ]
  },
  {
   "cell_type": "code",
   "execution_count": 11,
   "metadata": {
    "collapsed": false
   },
   "outputs": [],
   "source": [
    "nod_2 = list(nx.k_clique_communities(G,2))\n",
    "nod_3 = list(nx.k_clique_communities(G,3))\n",
    "nod_4 = list(nx.k_clique_communities(G,4))"
   ]
  },
  {
   "cell_type": "code",
   "execution_count": 12,
   "metadata": {
    "collapsed": false
   },
   "outputs": [],
   "source": [
    "def find_overlap(lista):\n",
    "    overlap = []\n",
    "    dict = {}\n",
    "    for i in range(0,len(lista)-1):\n",
    "        list_temp = list(lista[i])\n",
    "        for j in range(0,len(list_temp)-1):\n",
    "            node = list_temp[j]\n",
    "            for k in range(i+1,len(lista)-1):\n",
    "                list_temp_1 = list(lista[k])\n",
    "                for n in range(0,len(list_temp_1)-1):\n",
    "                    if(node == list_temp_1[n]):\n",
    "                        #print(node + ' overlap')\n",
    "                        overlap.append(node)\n",
    "    over = sorted(overlap)\n",
    "    for i in range(0,len(over)-1):\n",
    "        dict[over[i]] = over.count(over[i])\n",
    "    sort = sorted(dict.items(),key=operator.itemgetter(1), reverse=True)\n",
    "    return sort\n",
    "\n",
    "overlap_nod_4 = find_overlap(nod_4)\n",
    "overlap_nod_3 = find_overlap(nod_3)\n",
    "overlap_nod_2 = find_overlap(nod_2)"
   ]
  }
 ],
 "metadata": {
  "kernelspec": {
   "display_name": "Python 3",
   "language": "python",
   "name": "python3"
  },
  "language_info": {
   "codemirror_mode": {
    "name": "ipython",
    "version": 3
   },
   "file_extension": ".py",
   "mimetype": "text/x-python",
   "name": "python",
   "nbconvert_exporter": "python",
   "pygments_lexer": "ipython3",
   "version": "3.6.4"
  }
 },
 "nbformat": 4,
 "nbformat_minor": 2
}
