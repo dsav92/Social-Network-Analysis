{
 "cells": [
  {
   "cell_type": "code",
   "execution_count": 20,
   "metadata": {
    "collapsed": false
   },
   "outputs": [],
   "source": [
    "import scipy.io as sio\n",
    "import pandas as pd\n",
    "import networkx as nx\n",
    "import matplotlib.pyplot as plt"
   ]
  },
  {
   "cell_type": "code",
   "execution_count": 21,
   "metadata": {
    "collapsed": false
   },
   "outputs": [],
   "source": [
    "def read_graph(filename):\n",
    "    # read graph from edgelist file\n",
    "    g = nx.Graph()\n",
    "    \n",
    "    f = open(filename)\n",
    "    for l in f:\n",
    "        l = l.rstrip().replace(\" \", \";\").replace(\",\", \";\").replace(\"\\t\", \";\").split(\";\")\n",
    "        g.add_edge(l[0], l[1])\n",
    "    return g\n",
    "G = read_graph('Dataset/socfb-CMU.csv')"
   ]
  },
  {
   "cell_type": "code",
   "execution_count": 22,
   "metadata": {
    "collapsed": true
   },
   "outputs": [],
   "source": [
    "def base_stats(graph):\n",
    "    lista={}\n",
    "    # compute some basilar stats\n",
    "    nodes = graph.number_of_nodes()\n",
    "    edges = graph.number_of_edges()\n",
    "    density = nx.density(graph)\n",
    "    avg= average_degree(graph)\n",
    "    c_coeff = nx.average_clustering(graph)\n",
    "    component=nx.number_connected_components(graph)\n",
    "    \n",
    "    lista['nodes']=nodes\n",
    "    lista['edges']=edges\n",
    "    lista['density']=density\n",
    "    lista['avg']=avg\n",
    "    lista['cluster']=c_coeff\n",
    "    lista['component']=component\n",
    "    \n",
    "    return lista\n",
    "    \n",
    "#print (base_stats(g))\n",
    "#nx.draw(g)                        \n",
    "#AVERAGE DEGREE--> NUMERO MEDIO DI LINK CONNESSI AI NODI\n",
    "def average_degree(graph):\n",
    "    N, K = graph.order(), graph.size()\n",
    "    return float(K) / N"
   ]
  },
  {
   "cell_type": "code",
   "execution_count": 24,
   "metadata": {
    "collapsed": false
   },
   "outputs": [],
   "source": [
    "eB = nx.edge_betweenness_centrality(G)"
   ]
  },
  {
   "cell_type": "code",
   "execution_count": 25,
   "metadata": {
    "collapsed": false
   },
   "outputs": [],
   "source": [
    "from collections import OrderedDict\n",
    "from operator import itemgetter\n",
    "\n",
    "d = OrderedDict(sorted(eB.items(), key=itemgetter(1)))"
   ]
  },
  {
   "cell_type": "code",
   "execution_count": 26,
   "metadata": {
    "collapsed": false
   },
   "outputs": [],
   "source": [
    "dictlist = []\n",
    "for key, value in d.iteritems():\n",
    "    temp = [key,value]\n",
    "    dictlist.append(temp)"
   ]
  },
  {
   "cell_type": "code",
   "execution_count": null,
   "metadata": {
    "collapsed": true
   },
   "outputs": [],
   "source": [
    "for i in range(0,10000):\n",
    "    tmp = dictlist[i][0]\n",
    "    G.remove_edge(tmp[0], tmp[1])\n",
    "    if (i==2449):\n",
    "        print('PERCENTILE 25%')\n",
    "        print(base_stats(G))\n",
    "        print('\\n')\n",
    "    elif(i==4449):\n",
    "        print('PERCENTILE 50%')\n",
    "        print(base_stats(G))\n",
    "        print('\\n')\n",
    "    elif(i==7449):\n",
    "        print('PERCENTILE 75%')\n",
    "        print(base_stats(G))\n",
    "        print('\\n')\n",
    "    elif(i==9999):\n",
    "        print('END')\n",
    "        print(base_stats(G))\n",
    "        print('\\n')"
   ]
  },
  {
   "cell_type": "code",
   "execution_count": null,
   "metadata": {
    "collapsed": true
   },
   "outputs": [],
   "source": []
  }
 ],
 "metadata": {
  "anaconda-cloud": {},
  "kernelspec": {
   "display_name": "Python 3",
   "language": "python",
   "name": "python3"
  },
  "language_info": {
   "codemirror_mode": {
    "name": "ipython",
    "version": 3
   },
   "file_extension": ".py",
   "mimetype": "text/x-python",
   "name": "python",
   "nbconvert_exporter": "python",
   "pygments_lexer": "ipython3",
   "version": "3.6.4"
  }
 },
 "nbformat": 4,
 "nbformat_minor": 2
}
